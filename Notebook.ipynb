{
 "cells": [
  {
   "cell_type": "markdown",
   "metadata": {},
   "source": [
    "# Identify Person of Interest"
   ]
  },
  {
   "cell_type": "markdown",
   "metadata": {},
   "source": [
    "## Summary"
   ]
  },
  {
   "cell_type": "markdown",
   "metadata": {},
   "source": [
    "The Enron scandal, publicized in October 2001, eventually led to the bankruptcy of the Enron Corporation, an American energy company based in Houston, Texas, and the de facto dissolution of Arthur Andersen, which was one of the five largest audit and accountancy partnerships in the world. In addition to being the largest bankruptcy reorganization in American history at that time, Enron was cited as the biggest audit failure. (source: Wikipedia)"
   ]
  },
  {
   "cell_type": "markdown",
   "metadata": {},
   "source": [
    "In this project, I'm building a person of interest identifier based on financial and email data made public as a result of the Enron scandal and with the help of machine learning techniques. I won't process the data emails_by_address."
   ]
  },
  {
   "cell_type": "markdown",
   "metadata": {},
   "source": [
    "Machine Learning allows to predict poi feature. Feature 'poi' is the response variable and it takes value 1 in case of poi and 0 otherwise. A person of Interest is a person who might be involved in the fraud causing the bankruptcy of Enron. This is a classification task. I'll use specifically supervised machine learning since we have a labeled dataset where we know whether or not each datapoint is poi or not."
   ]
  },
  {
   "cell_type": "markdown",
   "metadata": {},
   "source": [
    "## Correction needed after review"
   ]
  },
  {
   "cell_type": "markdown",
   "metadata": {},
   "source": [
    "Creation of a sub folder tools and addition of import\n",
    "Add imports test_classifier, create_new_features\n",
    "\n",
    "\n",
    "\n",
    "Amount of code in the report make it hard to follow. have separate sections of code and text explaining the findings of the code. Ex: data analysis is complete but scattered across multiple cells. Difficult to find an explanation of what is tuning or why is it essential.\n",
    "\n",
    "Understanding the dataset and question \n",
    "Move/Add to this section a paragraph discussing the row dimension.\n",
    "how many data points does it have? how many of each class? are the classes balanced?\n",
    "\n",
    "\n",
    "Suggestion: there is one more point that can be removed, although it is not an outlier but a useless data point because of lack of data: \n",
    "\n",
    "95% of missing data: ['LOCKHART EUGENE E']  \n",
    "\n",
    "Added paragraph for Tuning: \n",
    "\n",
    "what is it? \n",
    "search of the best performing model (algorithm + parameters) from a family of models (algorithm)\n",
    "\n",
    "why is it important?\n",
    "\n",
    "\n",
    "Suggestion on feature selection/engineering:\n",
    "univariate or recursive feature selection (selectkbest...)\n",
    "considering that in most cases your reports will be targeted to non-technical people, it might be beneficial to limit the amount of code and code results you show, and increase the amount of plain english explanation about your findings and decisions. ex: nb of features chosen? threshold?"
   ]
  },
  {
   "cell_type": "markdown",
   "metadata": {},
   "source": [
    "## Source of the data"
   ]
  },
  {
   "cell_type": "markdown",
   "metadata": {},
   "source": [
    "The source file enron61702insiderpay.pdf provides the financial data and could be found in this github repository.\n",
    "\n",
    "The Enron email corpus provide the email data. It is not exploited in this study. \n",
    "\n",
    "There are missing values in the dataset. In this case, for a given person if the value of a given feature is missing its value is set to \"NaN\". When the data is transformed into a numpy array, \"NaN\" is converted to 0 by default."
   ]
  },
  {
   "cell_type": "markdown",
   "metadata": {},
   "source": [
    "## Setup"
   ]
  },
  {
   "cell_type": "markdown",
   "metadata": {},
   "source": [
    "### Versions:\n",
    "Package|version\n",
    "--|--\n",
    "python|2.7.13\n",
    "scikit-learn|0.18.1"
   ]
  },
  {
   "cell_type": "code",
   "execution_count": 116,
   "metadata": {
    "collapsed": false,
    "scrolled": true
   },
   "outputs": [],
   "source": [
    "# Required Libraries\n",
    "import sys\n",
    "import pickle\n",
    "import numpy as np\n",
    "import pandas as pd\n",
    "import matplotlib.pyplot as plt\n",
    "import seaborn as sns\n",
    "import string\n",
    "sys.path.append(\"./tools/\")\n",
    "from feature_format import featureFormat, targetFeatureSplit\n",
    "from tester import dump_classifier_and_data, test_classifier\n",
    "from create_new_features import add_fraction_to_dict\n",
    "from explore import get_incompletes, display_examples,build_df,display_NaN\n",
    "#from sklearn.cross_validation import train_test_split for previous versions\n",
    "from sklearn.model_selection import train_test_split"
   ]
  },
  {
   "cell_type": "markdown",
   "metadata": {},
   "source": [
    "## Data Exploration"
   ]
  },
  {
   "cell_type": "markdown",
   "metadata": {},
   "source": [
    "### Dataset Study"
   ]
  },
  {
   "cell_type": "markdown",
   "metadata": {},
   "source": [
    "-|Feature  | Type | Comment\n",
    "-|--|--|--\n",
    "1|bonus|continuous| finance (payment type) feature\n",
    "2|deferral_payments|continuous| finance (payment type) feature\n",
    "3|deferred_income|continuous|finance (payment type) feature\n",
    "4|director_fees|continuous|finance (payment type) feature\n",
    "5|email_address|nominal|email (text type) feature \n",
    "6|exercised_stock_options|continuous|finance (stock type) feature\n",
    "7|expenses|continuous|finance (payment type) feature\n",
    "8|from_messages|nominal|email (number of messages) feature \n",
    "9|from_poi_to_this_person|continuous|email (number of messages) feature\n",
    "10|from_this_person_to_poi|continuous|email (number of messages) feature\n",
    "11|loan_advances|continuous|finance (payment type) feature\n",
    "12|long_term_incentive|continuous|finance (payment type) feature\n",
    "13|other|continuous|finance (payment type) feature\n",
    "14|poi|nominal|the label to identify a person of interest (boolean type)\n",
    "15|restricted_stock|continuous|finance (stock type) feature\n",
    "16|restricted_stock_deferred|continuous|finance (stock type) feature\n",
    "17|salary|continuous|finance (payment type) feature\n",
    "18|shared_receipt_with_poi|continuous|email (number of messages) feature\n",
    "19|to_messages|continuous|email (number of messages) feature\n",
    "20|total_payments|continuous|finance (payment type) feature\n",
    "21|total_stock_value|continuous|finance (stock type) feature"
   ]
  },
  {
   "cell_type": "markdown",
   "metadata": {},
   "source": [
    "I will not exploit the feature 'email_address'."
   ]
  },
  {
   "cell_type": "markdown",
   "metadata": {},
   "source": [
    "## Task 1: Select what features you'll use."
   ]
  },
  {
   "cell_type": "code",
   "execution_count": 117,
   "metadata": {
    "collapsed": true
   },
   "outputs": [],
   "source": [
    "### features_list is a list of strings, each of which is a feature name.\n",
    "### The first feature must be \"poi\" since it is the target.\n",
    "features_list = ['poi',\n",
    "                'bonus',\n",
    "                'deferral_payments',\n",
    "                'deferred_income',\n",
    "                'director_fees',\n",
    "                'exercised_stock_options',\n",
    "                'expenses',\n",
    "                'from_messages',\n",
    "                'from_poi_to_this_person',\n",
    "                'from_this_person_to_poi',\n",
    "                'loan_advances',\n",
    "                'long_term_incentive',\n",
    "                'other',\n",
    "                'restricted_stock',\n",
    "                'restricted_stock_deferred',\n",
    "                'salary',\n",
    "                'shared_receipt_with_poi',\n",
    "                'to_messages',\n",
    "                'total_payments',\n",
    "                'total_stock_value'] "
   ]
  },
  {
   "cell_type": "code",
   "execution_count": 118,
   "metadata": {
    "collapsed": false
   },
   "outputs": [
    {
     "name": "stdout",
     "output_type": "stream",
     "text": [
      "number of features 20\n"
     ]
    }
   ],
   "source": [
    "# counting the number of features\n",
    "print \"number of features\", len(features_list)"
   ]
  },
  {
   "cell_type": "code",
   "execution_count": 119,
   "metadata": {
    "collapsed": false
   },
   "outputs": [],
   "source": [
    "### Load the dictionary containing the dataset\n",
    "with open(\"final_project_dataset.pkl\", \"r\") as data_file:\n",
    "    data_dict = pickle.load(data_file)"
   ]
  },
  {
   "cell_type": "code",
   "execution_count": 120,
   "metadata": {
    "collapsed": false
   },
   "outputs": [
    {
     "name": "stdout",
     "output_type": "stream",
     "text": [
      "total number of data points 146\n"
     ]
    }
   ],
   "source": [
    "print \"total number of data points\", len(data_dict)"
   ]
  },
  {
   "cell_type": "markdown",
   "metadata": {},
   "source": [
    "## Task 2: Remove outliers"
   ]
  },
  {
   "cell_type": "markdown",
   "metadata": {},
   "source": [
    "### Outlier Investigation"
   ]
  },
  {
   "cell_type": "code",
   "execution_count": 121,
   "metadata": {
    "collapsed": false
   },
   "outputs": [
    {
     "name": "stdout",
     "output_type": "stream",
     "text": [
      "\n",
      " incompletes more than 90% incomplete information:\n",
      "90.4761904762  %\n",
      "90.4761904762  %\n",
      "100.0  %\n",
      "90.4761904762  %\n",
      "90.4761904762  %\n",
      "['WHALEY DAVID A', 'WROBEL BRUCE', 'LOCKHART EUGENE E', 'THE TRAVEL AGENCY IN THE PARK', 'GRAMM WENDY L']\n"
     ]
    }
   ],
   "source": [
    "# Get the list of persons with more than 90% incomplete information\n",
    "print \"\\n incompletes more than 90% incomplete information:\\n\",get_incompletes(data_dict,0.9)"
   ]
  },
  {
   "cell_type": "code",
   "execution_count": 122,
   "metadata": {
    "collapsed": false
   },
   "outputs": [
    {
     "name": "stdout",
     "output_type": "stream",
     "text": [
      "Name: TOTAL\n",
      "[ poi ] =  False\n",
      "Name: TOTAL\n",
      "[ bonus ] =  97343619\n",
      "Name: TOTAL\n",
      "[ salary ] =  26704229\n",
      "Name: THE TRAVEL AGENCY IN THE PARK\n",
      "[ poi ] =  False\n",
      "Name: THE TRAVEL AGENCY IN THE PARK\n",
      "[ bonus ] =  NaN\n",
      "Name: THE TRAVEL AGENCY IN THE PARK\n",
      "[ salary ] =  NaN\n",
      "\n",
      "Who has the highest salary? \n",
      "TOTAL\n",
      "\n",
      "Who has the highest bonus? \n",
      "TOTAL\n"
     ]
    }
   ],
   "source": [
    "display_examples(data_dict)"
   ]
  },
  {
   "cell_type": "markdown",
   "metadata": {},
   "source": [
    "Let's display the graph \"Bonus vs Salary\". A clear outlier is appearing."
   ]
  },
  {
   "cell_type": "code",
   "execution_count": 123,
   "metadata": {
    "collapsed": true
   },
   "outputs": [],
   "source": [
    "import matplotlib.pyplot as plt\n",
    "import seaborn as sns\n",
    "\n",
    "# Settings\n",
    "sns.set_style('whitegrid')\n",
    "plt.style.use('classic')"
   ]
  },
  {
   "cell_type": "markdown",
   "metadata": {},
   "source": [
    "![Diagram](Outlier_TOTAL.jpg)"
   ]
  },
  {
   "cell_type": "markdown",
   "metadata": {},
   "source": [
    "The outlier is caught by looking for the highest bonus and highest salary. \n",
    "\n",
    "The salary is 26,704,229\n",
    "\n",
    "The bonus is 97,343,619\n",
    "\n",
    "poi value is 0\n",
    "\n",
    "The name \"TOTAL\" is a hint that it is not a person but the sum of financial features. \n",
    "\n",
    "It has to be discarded. "
   ]
  },
  {
   "cell_type": "code",
   "execution_count": 124,
   "metadata": {
    "collapsed": false
   },
   "outputs": [],
   "source": [
    "# removing the outlier called TOTAL\n",
    "data_dict.pop( \"TOTAL\", 0 );\n",
    "# not a person and many missing information above 90%\n",
    "data_dict.pop( \"THE TRAVEL AGENCY IN THE PARK\", 0 );\n",
    "# no information at all for LOCKHART EUGENE E\n",
    "data_dict.pop( \"LOCKHART EUGENE E\",0);"
   ]
  },
  {
   "cell_type": "code",
   "execution_count": 125,
   "metadata": {
    "collapsed": true
   },
   "outputs": [],
   "source": [
    "df = build_df(data_dict)"
   ]
  },
  {
   "cell_type": "markdown",
   "metadata": {},
   "source": [
    "After removal, we have the following graph:"
   ]
  },
  {
   "cell_type": "code",
   "execution_count": 126,
   "metadata": {
    "collapsed": false
   },
   "outputs": [
    {
     "data": {
      "image/png": "[encoded data removed]",
      "text/plain": [
       "<matplotlib.figure.Figure at 0xefeaeb8>"
      ]
     },
     "metadata": {},
     "output_type": "display_data"
    }
   ],
   "source": [
    "sns.jointplot(x=\"bonus\", y=\"salary\", data=df)\n",
    "plt.show()"
   ]
  },
  {
   "cell_type": "code",
   "execution_count": 127,
   "metadata": {
    "collapsed": false,
    "scrolled": false
   },
   "outputs": [
    {
     "name": "stdout",
     "output_type": "stream",
     "text": [
      "total number of data points 143\n"
     ]
    }
   ],
   "source": [
    "print \"total number of data points\", len(data_dict)"
   ]
  },
  {
   "cell_type": "code",
   "execution_count": 128,
   "metadata": {
    "collapsed": false
   },
   "outputs": [
    {
     "name": "stdout",
     "output_type": "stream",
     "text": [
      "number of poi:\n",
      "False    125\n",
      "True      18\n",
      "Name: poi, dtype: int64\n"
     ]
    }
   ],
   "source": [
    "### Checking the target class\n",
    "count_poi = pd.value_counts(df['poi'], sort = True).sort_index()\n",
    "print \"number of poi:\\n\",count_poi"
   ]
  },
  {
   "cell_type": "code",
   "execution_count": 129,
   "metadata": {
    "collapsed": false
   },
   "outputs": [
    {
     "name": "stdout",
     "output_type": "stream",
     "text": [
      "Percentage of POI  12.5874125874 %\n"
     ]
    }
   ],
   "source": [
    "## Percentage of POI:\n",
    "print \"Percentage of POI \",100*18./143,\"%\""
   ]
  },
  {
   "cell_type": "markdown",
   "metadata": {},
   "source": [
    "## Task 3: Create new feature(s)"
   ]
  },
  {
   "cell_type": "markdown",
   "metadata": {},
   "source": [
    "### Direction:\n",
    "Create new feature(s)\n",
    "\n",
    "The two created features are related to ratios of emails sent to or from POI. It shows for that person what is the proportion of emails echanged with poi. It shows how intense are echanges with POI regardless of the volume of emails.   "
   ]
  },
  {
   "cell_type": "code",
   "execution_count": 130,
   "metadata": {
    "collapsed": false
   },
   "outputs": [],
   "source": [
    "add_fraction_to_dict(data_dict, \"perc_from_poi\", \"from_poi_to_this_person\", \"to_messages\")\n",
    "add_fraction_to_dict(data_dict, \"perc_to_poi\", \"from_this_person_to_poi\", \"from_messages\")\n",
    "\n",
    "perc_from_poi  = [data_dict[key]['perc_from_poi'] for key in data_dict.keys()]\n",
    "perc_to_poi  = [data_dict[key]['perc_to_poi'] for key in data_dict.keys()]\n",
    "\n",
    "df['perc_from_poi'] = perc_from_poi\n",
    "df['perc_to_poi'] = perc_to_poi"
   ]
  },
  {
   "cell_type": "markdown",
   "metadata": {},
   "source": [
    "![Diagram](perc_from_poiVSperc_to_poi.png)"
   ]
  },
  {
   "cell_type": "markdown",
   "metadata": {},
   "source": [
    "## Missing Values"
   ]
  },
  {
   "cell_type": "markdown",
   "metadata": {},
   "source": [
    "We could consider that if a person did not receive any financial retribution, its value is zero.\n",
    "\n",
    "My choice is that NaN values have to be replaced by zeros.\n",
    "\n",
    "For the same reason, for email features, NaN values have to be replaced by zeros."
   ]
  },
  {
   "cell_type": "code",
   "execution_count": 133,
   "metadata": {
    "collapsed": false,
    "scrolled": true
   },
   "outputs": [
    {
     "name": "stdout",
     "output_type": "stream",
     "text": [
      "% of NaN values for  name 0.00\n",
      "% of NaN values for  poi 0.00\n",
      "% of NaN values for  bonus 43.36\n",
      "% of NaN values for  deferral_payments 73.43\n",
      "% of NaN values for  deferred_income 66.43\n",
      "% of NaN values for  director_fees 88.81\n",
      "% of NaN values for  exercised_stock_options 29.37\n",
      "% of NaN values for  expenses 34.27\n",
      "% of NaN values for  loan_advances 97.90\n",
      "% of NaN values for  long_term_incentive 54.55\n",
      "% of NaN values for  other 36.36\n",
      "% of NaN values for  restricted_stock 23.78\n",
      "% of NaN values for  restricted_stock_deferred 88.11\n",
      "% of NaN values for  salary 34.27\n",
      "% of NaN values for  total_payments 13.99\n",
      "% of NaN values for  total_stock_value 12.59\n",
      "% of NaN values for  from_messages 39.86\n",
      "% of NaN values for  from_poi_to_this_person 39.86\n",
      "% of NaN values for  from_this_person_to_poi 39.86\n",
      "% of NaN values for  shared_receipt_with_poi 39.86\n",
      "% of NaN values for  to_messages 39.86\n",
      "% of NaN values for  perc_from_poi 0.00\n",
      "% of NaN values for  perc_to_poi 0.00\n"
     ]
    }
   ],
   "source": [
    "display_NaN(df)"
   ]
  },
  {
   "cell_type": "markdown",
   "metadata": {},
   "source": [
    "Some features have not enough information: \n",
    "loan_advances (97.92% of NaN), \n",
    "director_fees (88.89% of NaN), \n",
    "restricted_stock_deferred (88.19% of NaN),\n",
    "deferral_payments (73.61% of NaN),\n",
    "\n",
    "For this reason, I do not include them in feature selection."
   ]
  },
  {
   "cell_type": "code",
   "execution_count": 134,
   "metadata": {
    "collapsed": true
   },
   "outputs": [],
   "source": [
    "# Missing values : do not include these features\n",
    "df.drop(\"loan_advances\", axis=1,inplace=True)\n",
    "df.drop(\"restricted_stock_deferred\",axis=1,inplace=True)\n",
    "df.drop(\"director_fees\",axis=1,inplace=True)\n",
    "df.drop(\"deferral_payments\",axis=1,inplace=True)            "
   ]
  },
  {
   "cell_type": "markdown",
   "metadata": {},
   "source": [
    "![Diagram](PearsonCorrelationOfFeatures.png)"
   ]
  },
  {
   "cell_type": "markdown",
   "metadata": {},
   "source": [
    "__Linear Correlation deduced from Pearson's Correlation Diagram:__\n",
    "\n",
    "shared_receipt_with_poi and to_messages have a strong linear relationship (increasing).\n",
    "\n",
    "exercised_stock_options and total_stock_value have a strong linear relationship (increasing). It is not a surprise. \n",
    "\n",
    "Others and total_payment have a strong linear relationship (increasing).\n",
    "\n",
    "Exercised_stock_options and Restricted stock have a linear relationship (increasing)."
   ]
  },
  {
   "cell_type": "code",
   "execution_count": 135,
   "metadata": {
    "collapsed": true
   },
   "outputs": [],
   "source": [
    "# to make this notebook's output identical at every run\n",
    "np.random.seed(42)"
   ]
  },
  {
   "cell_type": "code",
   "execution_count": 136,
   "metadata": {
    "collapsed": true
   },
   "outputs": [],
   "source": [
    "# 17 features in total\n",
    "features_list = ['poi',\n",
    "                 'bonus',\n",
    "                 'deferred_income',\n",
    "                 'exercised_stock_options',\n",
    "                 'expenses',\n",
    "                 'long_term_incentive',\n",
    "                 'other',\n",
    "                 'restricted_stock',\n",
    "                 'salary',\n",
    "                 'total_payments',\n",
    "                 'total_stock_value',\n",
    "                 'from_messages',\n",
    "                 'from_poi_to_this_person',\n",
    "                 'from_this_person_to_poi',\n",
    "                 'shared_receipt_with_poi',\n",
    "                 'to_messages',\n",
    "                 'perc_from_poi',\n",
    "                 'perc_to_poi']"
   ]
  },
  {
   "cell_type": "code",
   "execution_count": 137,
   "metadata": {
    "collapsed": false
   },
   "outputs": [],
   "source": [
    "### Store to my_dataset for easy export below.\n",
    "my_dataset = data_dict"
   ]
  },
  {
   "cell_type": "code",
   "execution_count": 138,
   "metadata": {
    "collapsed": false
   },
   "outputs": [],
   "source": [
    "### Extract features and labels from dataset for local testing\n",
    "data = featureFormat(my_dataset, features_list, sort_keys = True)\n",
    "labels, features = targetFeatureSplit(data)"
   ]
  },
  {
   "cell_type": "code",
   "execution_count": 139,
   "metadata": {
    "collapsed": false
   },
   "outputs": [
    {
     "name": "stdout",
     "output_type": "stream",
     "text": [
      "('Number train dataset: ', 128)\n",
      "('Number test dataset: ', 15)\n",
      "('Total number: ', 143)\n"
     ]
    }
   ],
   "source": [
    "### split data into training and testing datasets\n",
    "features_train, features_test, labels_train, labels_test = train_test_split(features, labels, test_size=0.1, random_state=42)\n",
    "\n",
    "print(\"Number train dataset: \", len(features_train))\n",
    "print(\"Number test dataset: \", len(features_test))\n",
    "print(\"Total number: \", len(features_train)+len(features_test))"
   ]
  },
  {
   "cell_type": "code",
   "execution_count": 140,
   "metadata": {
    "collapsed": true
   },
   "outputs": [],
   "source": [
    "corr_matrix = df.corr()"
   ]
  },
  {
   "cell_type": "code",
   "execution_count": 141,
   "metadata": {
    "collapsed": false
   },
   "outputs": [
    {
     "data": {
      "text/plain": [
       "poi                        1.000000\n",
       "exercised_stock_options    0.503551\n",
       "total_stock_value          0.366462\n",
       "perc_to_poi                0.322875\n",
       "bonus                      0.302384\n",
       "salary                     0.264976\n",
       "long_term_incentive        0.254723\n",
       "total_payments             0.230102\n",
       "shared_receipt_with_poi    0.228313\n",
       "restricted_stock           0.224814\n",
       "from_poi_to_this_person    0.167722\n",
       "perc_from_poi              0.147321\n",
       "other                      0.120270\n",
       "from_this_person_to_poi    0.112940\n",
       "expenses                   0.060292\n",
       "to_messages                0.058954\n",
       "from_messages             -0.074308\n",
       "deferred_income           -0.265698\n",
       "Name: poi, dtype: float64"
      ]
     },
     "execution_count": 141,
     "metadata": {},
     "output_type": "execute_result"
    }
   ],
   "source": [
    "corr_matrix[\"poi\"].sort_values(ascending=False)"
   ]
  },
  {
   "cell_type": "markdown",
   "metadata": {},
   "source": [
    "## Prepare the data for Machine Learning algorithms"
   ]
  },
  {
   "cell_type": "markdown",
   "metadata": {},
   "source": [
    "### Feature scaling"
   ]
  },
  {
   "cell_type": "markdown",
   "metadata": {},
   "source": [
    "I did not have to do any scaling.\n",
    "\n",
    "Naive Bayes, as well as Decision trees and Tree-based ensemble methods (RF, XGB) are invariant to feature scaling.\n",
    "\n",
    "Thus, I did not used feature scaling. \n",
    "\n",
    "Affected algorithms are for example: SVM, "
   ]
  },
  {
   "cell_type": "markdown",
   "metadata": {},
   "source": [
    "### Selection of features and use of SelectKBest"
   ]
  },
  {
   "cell_type": "markdown",
   "metadata": {},
   "source": [
    "![Diagram](FeatureImportance.png)"
   ]
  },
  {
   "cell_type": "markdown",
   "metadata": {},
   "source": [
    "__Reminder of correlated features:__\n",
    "\n",
    "shared_receipt_with_poi and to_messages have a strong linear relationship (increasing).\n",
    "\n",
    "exercised_stock_options and total_stock_value have a strong linear relationship (increasing).\n",
    "\n",
    "Others and total_payment have a strong linear relationship (increasing).\n",
    "\n",
    "Exercised_stock_options and Restricted stock have a linear relationship (increasing)."
   ]
  },
  {
   "cell_type": "code",
   "execution_count": 142,
   "metadata": {
    "collapsed": true
   },
   "outputs": [],
   "source": [
    "# select best features from kbest\n",
    "features_list = ['poi',\n",
    "                'exercised_stock_options',\n",
    "                'total_stock_value',\n",
    "                'bonus',\n",
    "                'salary',\n",
    "                'perc_to_poi',\n",
    "                'deferred_income',\n",
    "                'long_term_incentive',\n",
    "                'restricted_stock',\n",
    "                'total_payments',\n",
    "                'shared_receipt_with_poi',\n",
    "                'expenses',\n",
    "                'from_poi_to_this_person',\n",
    "                'other',\n",
    "                'perc_from_poi',\n",
    "                'from_this_person_to_poi',\n",
    "                'to_messages',\n",
    "                'from_messages']"
   ]
  },
  {
   "cell_type": "code",
   "execution_count": 143,
   "metadata": {
    "collapsed": true
   },
   "outputs": [],
   "source": [
    "# select best features and getting rid of correlated features: 13 are remaining in total\n",
    "features_list = ['poi',\n",
    "                'exercised_stock_options',\n",
    "                'bonus',\n",
    "                'salary',\n",
    "                'perc_to_poi',\n",
    "                'deferred_income',\n",
    "                'long_term_incentive',\n",
    "                'total_payments',\n",
    "                'shared_receipt_with_poi',\n",
    "                'expenses',\n",
    "                'from_poi_to_this_person',\n",
    "                'perc_from_poi',\n",
    "                'from_this_person_to_poi',\n",
    "                'from_messages']"
   ]
  },
  {
   "cell_type": "code",
   "execution_count": 144,
   "metadata": {
    "collapsed": false,
    "scrolled": true
   },
   "outputs": [],
   "source": [
    "### Store to my_dataset for easy export below.\n",
    "my_dataset = data_dict\n",
    "\n",
    "### Extract features and labels from dataset for local testing\n",
    "data = featureFormat(my_dataset, features_list, sort_keys = True)\n",
    "labels, features = targetFeatureSplit(data)"
   ]
  },
  {
   "cell_type": "code",
   "execution_count": 145,
   "metadata": {
    "collapsed": false,
    "scrolled": false
   },
   "outputs": [
    {
     "name": "stdout",
     "output_type": "stream",
     "text": [
      "('Number train dataset: ', 127)\n",
      "('Number test dataset: ', 15)\n",
      "('Total number: ', 142)\n"
     ]
    }
   ],
   "source": [
    "### split data into training and testing datasets\n",
    "features_train, features_test, labels_train, labels_test = train_test_split(features, labels, test_size=0.1, random_state=42)\n",
    "\n",
    "print(\"Number train dataset: \", len(features_train))\n",
    "print(\"Number test dataset: \", len(features_test))\n",
    "print(\"Total number: \", len(features_train)+len(features_test))"
   ]
  },
  {
   "cell_type": "markdown",
   "metadata": {},
   "source": [
    "## Task 4: Try a varity of classifiers"
   ]
  },
  {
   "cell_type": "markdown",
   "metadata": {},
   "source": [
    "### Direction:\n",
    "Try a varity of classifiers\n",
    "\n",
    "Please name your classifier clf for easy export below.\n",
    "\n",
    "Note that if you want to do PCA or other multi-stage operations,\n",
    "you'll need to use Pipelines. For more info:\n",
    "http://scikit-learn.org/stable/modules/pipeline.html"
   ]
  },
  {
   "cell_type": "markdown",
   "metadata": {},
   "source": [
    "### Naive Bayes Model"
   ]
  },
  {
   "cell_type": "code",
   "execution_count": 146,
   "metadata": {
    "collapsed": false
   },
   "outputs": [
    {
     "data": {
      "text/plain": [
       "GaussianNB(priors=None)"
      ]
     },
     "execution_count": 146,
     "metadata": {},
     "output_type": "execute_result"
    }
   ],
   "source": [
    "### trial with Naive Bayes for prediction\n",
    "from sklearn.naive_bayes import GaussianNB\n",
    "\n",
    "nb_clf = GaussianNB()\n",
    "nb_clf.fit(features_train, labels_train)"
   ]
  },
  {
   "cell_type": "code",
   "execution_count": 147,
   "metadata": {
    "collapsed": false,
    "scrolled": false
   },
   "outputs": [
    {
     "name": "stdout",
     "output_type": "stream",
     "text": [
      "GaussianNB(priors=None)\n",
      "\tAccuracy: 0.83993\tPrecision: 0.37073\tRecall: 0.28750\tF1: 0.32385\tF2: 0.30102\n",
      "\tTotal predictions: 15000\tTrue positives:  575\tFalse positives:  976\tFalse negatives: 1425\tTrue negatives: 12024\n",
      "\n"
     ]
    }
   ],
   "source": [
    "test_classifier(nb_clf, my_dataset, features_list)"
   ]
  },
  {
   "cell_type": "markdown",
   "metadata": {},
   "source": [
    "### Decision Tree Model"
   ]
  },
  {
   "cell_type": "code",
   "execution_count": 148,
   "metadata": {
    "collapsed": false,
    "scrolled": true
   },
   "outputs": [
    {
     "data": {
      "text/plain": [
       "DecisionTreeClassifier(class_weight=None, criterion='gini', max_depth=None,\n",
       "            max_features=None, max_leaf_nodes=None,\n",
       "            min_impurity_decrease=0.0, min_impurity_split=None,\n",
       "            min_samples_leaf=1, min_samples_split=2,\n",
       "            min_weight_fraction_leaf=0.0, presort=False, random_state=42,\n",
       "            splitter='best')"
      ]
     },
     "execution_count": 148,
     "metadata": {},
     "output_type": "execute_result"
    }
   ],
   "source": [
    "from sklearn.tree import DecisionTreeClassifier\n",
    "\n",
    "DTree_clf = DecisionTreeClassifier(random_state=42)\n",
    "DTree_clf.fit(features_train,labels_train)"
   ]
  },
  {
   "cell_type": "code",
   "execution_count": 149,
   "metadata": {
    "collapsed": false,
    "scrolled": true
   },
   "outputs": [
    {
     "name": "stdout",
     "output_type": "stream",
     "text": [
      "DecisionTreeClassifier(class_weight=None, criterion='gini', max_depth=None,\n",
      "            max_features=None, max_leaf_nodes=None,\n",
      "            min_impurity_decrease=0.0, min_impurity_split=None,\n",
      "            min_samples_leaf=1, min_samples_split=2,\n",
      "            min_weight_fraction_leaf=0.0, presort=False, random_state=42,\n",
      "            splitter='best')\n",
      "\tAccuracy: 0.81713\tPrecision: 0.30701\tRecall: 0.29550\tF1: 0.30115\tF2: 0.29773\n",
      "\tTotal predictions: 15000\tTrue positives:  591\tFalse positives: 1334\tFalse negatives: 1409\tTrue negatives: 11666\n",
      "\n"
     ]
    }
   ],
   "source": [
    "test_classifier(DTree_clf, my_dataset, features_list)"
   ]
  },
  {
   "cell_type": "code",
   "execution_count": 150,
   "metadata": {
    "collapsed": false
   },
   "outputs": [
    {
     "name": "stdout",
     "output_type": "stream",
     "text": [
      "Feature importances: [ 0.06620183  0.          0.04767267  0.17102017  0.05720721  0.02026089\n",
      "  0.06674174  0.2240468   0.21336521  0.08581081  0.          0.04767267\n",
      "  0.        ]\n",
      "The number of classes  2\n"
     ]
    }
   ],
   "source": [
    "print \"Feature importances:\",DTree_clf.feature_importances_\n",
    "print \"The number of classes \",DTree_clf.n_classes_"
   ]
  },
  {
   "cell_type": "code",
   "execution_count": 151,
   "metadata": {
    "collapsed": true
   },
   "outputs": [],
   "source": [
    "from sklearn import tree \n",
    "dot_data = tree.export_graphviz(DTree_clf,\n",
    "                                feature_names=features_list[1:],\n",
    "                                class_names=True,\n",
    "                                label='all',\n",
    "                                filled=True, rounded=True,\n",
    "                                out_file=\"tree.dot\")"
   ]
  },
  {
   "cell_type": "code",
   "execution_count": 152,
   "metadata": {
    "collapsed": true
   },
   "outputs": [],
   "source": [
    "# Use commands for generating image DecisionTree01.png\n",
    "# >activate DAND\n",
    "# >cd \"~/final_project\" # where the tree.dot is located\n",
    "# >dot -Tpng tree.dot -o DecisionTree01.png"
   ]
  },
  {
   "cell_type": "markdown",
   "metadata": {},
   "source": [
    "![Diagram](DecisionTree01.png)"
   ]
  },
  {
   "cell_type": "markdown",
   "metadata": {},
   "source": [
    "### Random Forest Model"
   ]
  },
  {
   "cell_type": "code",
   "execution_count": 153,
   "metadata": {
    "collapsed": false,
    "scrolled": true
   },
   "outputs": [
    {
     "data": {
      "text/plain": [
       "RandomForestClassifier(bootstrap=True, class_weight=None, criterion='entropy',\n",
       "            max_depth=None, max_features=1, max_leaf_nodes=None,\n",
       "            min_impurity_decrease=0.0, min_impurity_split=None,\n",
       "            min_samples_leaf=1, min_samples_split=2,\n",
       "            min_weight_fraction_leaf=0.0, n_estimators=10, n_jobs=1,\n",
       "            oob_score=False, random_state=42, verbose=0, warm_start=False)"
      ]
     },
     "execution_count": 153,
     "metadata": {},
     "output_type": "execute_result"
    }
   ],
   "source": [
    "from sklearn.ensemble import RandomForestClassifier\n",
    "\n",
    "RF_clf = RandomForestClassifier(criterion='entropy',max_features=1,\n",
    "                             random_state=42)\n",
    "RF_clf.fit(features_train, labels_train)"
   ]
  },
  {
   "cell_type": "code",
   "execution_count": 154,
   "metadata": {
    "collapsed": false
   },
   "outputs": [
    {
     "name": "stdout",
     "output_type": "stream",
     "text": [
      "RandomForestClassifier(bootstrap=True, class_weight=None, criterion='entropy',\n",
      "            max_depth=None, max_features=1, max_leaf_nodes=None,\n",
      "            min_impurity_decrease=0.0, min_impurity_split=None,\n",
      "            min_samples_leaf=1, min_samples_split=2,\n",
      "            min_weight_fraction_leaf=0.0, n_estimators=10, n_jobs=1,\n",
      "            oob_score=False, random_state=42, verbose=0, warm_start=False)\n",
      "\tAccuracy: 0.86327\tPrecision: 0.44218\tRecall: 0.09750\tF1: 0.15977\tF2: 0.11551\n",
      "\tTotal predictions: 15000\tTrue positives:  195\tFalse positives:  246\tFalse negatives: 1805\tTrue negatives: 12754\n",
      "\n"
     ]
    }
   ],
   "source": [
    "test_classifier(RF_clf, my_dataset, features_list)"
   ]
  },
  {
   "cell_type": "code",
   "execution_count": 155,
   "metadata": {
    "collapsed": false
   },
   "outputs": [
    {
     "name": "stdout",
     "output_type": "stream",
     "text": [
      "Feature importances: [ 0.16600026  0.06917332  0.07329676  0.14227899  0.0484351   0.10840532\n",
      "  0.09809793  0.04676382  0.08431206  0.03344624  0.05901818  0.02555952\n",
      "  0.04521251]\n"
     ]
    }
   ],
   "source": [
    "print \"Feature importances:\",RF_clf.feature_importances_"
   ]
  },
  {
   "cell_type": "markdown",
   "metadata": {},
   "source": [
    "### Adaboost Model"
   ]
  },
  {
   "cell_type": "code",
   "execution_count": 156,
   "metadata": {
    "collapsed": false,
    "scrolled": false
   },
   "outputs": [
    {
     "data": {
      "text/plain": [
       "AdaBoostClassifier(algorithm='SAMME',\n",
       "          base_estimator=DecisionTreeClassifier(class_weight=None, criterion='gini', max_depth=10,\n",
       "            max_features=None, max_leaf_nodes=None,\n",
       "            min_impurity_decrease=0.0, min_impurity_split=None,\n",
       "            min_samples_leaf=1, min_samples_split=2,\n",
       "            min_weight_fraction_leaf=0.0, presort=False, random_state=None,\n",
       "            splitter='best'),\n",
       "          learning_rate=1.0, n_estimators=50, random_state=None)"
      ]
     },
     "execution_count": 156,
     "metadata": {},
     "output_type": "execute_result"
    }
   ],
   "source": [
    "from sklearn.ensemble import AdaBoostClassifier\n",
    "depth = 10\n",
    "aboost_clf = AdaBoostClassifier(DecisionTreeClassifier(max_depth=depth),\n",
    "                         algorithm=\"SAMME\")    \n",
    "aboost_clf.fit(features_train,labels_train)"
   ]
  },
  {
   "cell_type": "code",
   "execution_count": 157,
   "metadata": {
    "collapsed": false
   },
   "outputs": [
    {
     "name": "stdout",
     "output_type": "stream",
     "text": [
      "AdaBoostClassifier(algorithm='SAMME',\n",
      "          base_estimator=DecisionTreeClassifier(class_weight=None, criterion='gini', max_depth=10,\n",
      "            max_features=None, max_leaf_nodes=None,\n",
      "            min_impurity_decrease=0.0, min_impurity_split=None,\n",
      "            min_samples_leaf=1, min_samples_split=2,\n",
      "            min_weight_fraction_leaf=0.0, presort=False, random_state=None,\n",
      "            splitter='best'),\n",
      "          learning_rate=1.0, n_estimators=50, random_state=None)\n",
      "\tAccuracy: 0.81860\tPrecision: 0.31195\tRecall: 0.29900\tF1: 0.30534\tF2: 0.30150\n",
      "\tTotal predictions: 15000\tTrue positives:  598\tFalse positives: 1319\tFalse negatives: 1402\tTrue negatives: 11681\n",
      "\n"
     ]
    }
   ],
   "source": [
    "test_classifier(aboost_clf, my_dataset, features_list)"
   ]
  },
  {
   "cell_type": "code",
   "execution_count": 158,
   "metadata": {
    "collapsed": false,
    "scrolled": true
   },
   "outputs": [
    {
     "name": "stdout",
     "output_type": "stream",
     "text": [
      "Feature importances: [ 0.06620183  0.          0.          0.17102017  0.          0.1060717\n",
      "  0.16208709  0.2240468   0.21336521  0.          0.          0.05720721\n",
      "  0.        ]\n"
     ]
    }
   ],
   "source": [
    "print \"Feature importances:\",aboost_clf.feature_importances_"
   ]
  },
  {
   "cell_type": "markdown",
   "metadata": {},
   "source": [
    "## Task 5: Tune your classifier to achieve better than .3 precision and recall"
   ]
  },
  {
   "cell_type": "markdown",
   "metadata": {},
   "source": [
    "#### Direction:\n",
    "Tune your classifier to achieve better than .3 precision and recall \n",
    "using our testing script. Check the tester.py script in the final project\n",
    "folder for details on the evaluation method, especially the test_classifier\n",
    "function. \n",
    "\n",
    "Because of the small size of the dataset, the script uses\n",
    "stratified shuffle split cross validation. \n",
    "For more info: \n",
    "http://scikit-learn.org/stable/modules/generated/sklearn.cross_validation.StratifiedShuffleSplit.html"
   ]
  },
  {
   "cell_type": "markdown",
   "metadata": {},
   "source": [
    "### Tuning"
   ]
  },
  {
   "cell_type": "markdown",
   "metadata": {},
   "source": [
    "Careful: model parameters <> hyperparameters.\n",
    "\n",
    "Once the selection of the model is done, tuning consists in finding the algorithm parameters - hyperparameters - to fit the model to the training set - i.e. to make good predictions on the training set itself - and generalization.\n",
    "Example of hyperparameters: TBD\n",
    "Tuning helps to get more accurate machine learning models.\n",
    "\n",
    "The model parameters are learned during training - e.g linear regression. \n",
    "\n",
    "Hyperparameters are set by the Data Analyst.\n",
    "\n",
    "When there are many hyperparameters, tuning could be tedious. In this case, it is intersting to adopt TBD. this automation method is cost effective: you save time.\n",
    "\n",
    "It is important to fine-tune the model since we want the best performance (e.g. minimal errors, best accuracy, and so on).\n",
    "\n",
    "Random Forest case:\n",
    "max_features: "
   ]
  },
  {
   "cell_type": "markdown",
   "metadata": {},
   "source": [
    "___General Tuning techniques:___\n",
    "- try a smaller set of features\n",
    "\n",
    "Good when overfitting. Used here below\n",
    "\n",
    "- try getting additional features. \n",
    "\n",
    "Not used at this stage.\n",
    "\n",
    "- try increasing and decreasing λ (Change how important the regularization term). \n",
    "\n",
    "It is helpful (e.g. logistic regression) but I did not select this method given the models used.\n",
    "\n",
    "- play with model parameters - hyperparameters.\n",
    "\n",
    "Use of automatic search of best hyperparameters. Used here below"
   ]
  },
  {
   "cell_type": "markdown",
   "metadata": {},
   "source": [
    "### NaiveBayes Model"
   ]
  },
  {
   "cell_type": "code",
   "execution_count": 159,
   "metadata": {
    "collapsed": true
   },
   "outputs": [],
   "source": [
    "# There is no parameters for Naive Bayes except playing with the number of features. \n",
    "# scores to beat: Accuracy: 0.83993\tPrecision: 0.37073\tRecall: 0.28750\tF1: 0.32385\tF2: 0.30102"
   ]
  },
  {
   "cell_type": "code",
   "execution_count": 160,
   "metadata": {
    "collapsed": true
   },
   "outputs": [],
   "source": [
    "# Tuning: \n",
    "# select One feature only: better performance when reducing the number of features\n",
    "features_list = ['poi','exercised_stock_options']"
   ]
  },
  {
   "cell_type": "code",
   "execution_count": 161,
   "metadata": {
    "collapsed": false
   },
   "outputs": [
    {
     "data": {
      "text/plain": [
       "GaussianNB(priors=None)"
      ]
     },
     "execution_count": 161,
     "metadata": {},
     "output_type": "execute_result"
    }
   ],
   "source": [
    "### Naive Bayes for prediction\n",
    "nb_clf = GaussianNB()\n",
    "nb_clf.fit(features_train, labels_train)"
   ]
  },
  {
   "cell_type": "code",
   "execution_count": 162,
   "metadata": {
    "collapsed": false,
    "scrolled": false
   },
   "outputs": [
    {
     "name": "stdout",
     "output_type": "stream",
     "text": [
      "GaussianNB(priors=None)\n",
      "\tAccuracy: 0.90409\tPrecision: 0.46055\tRecall: 0.32100\tF1: 0.37831\tF2: 0.34171\n",
      "\tTotal predictions: 11000\tTrue positives:  321\tFalse positives:  376\tFalse negatives:  679\tTrue negatives: 9624\n",
      "\n"
     ]
    }
   ],
   "source": [
    "## Evaluation on the final model\n",
    "test_classifier(nb_clf, my_dataset, features_list)"
   ]
  },
  {
   "cell_type": "markdown",
   "metadata": {},
   "source": [
    "## DecisionTreeClassifier"
   ]
  },
  {
   "cell_type": "code",
   "execution_count": 163,
   "metadata": {
    "collapsed": true
   },
   "outputs": [],
   "source": [
    "# Feature importances: [ 0.06620183,0.,0.04767267,0.17102017,0.05720721,0.02026089,0.06674174,\n",
    "#0.2240468,0.21336521,0.08581081,0.,0.04767267,0.] from previous run of Decision Tree\n",
    "# scores to beat: Accuracy: 0.81713\tPrecision: 0.30701\tRecall: 0.29550\tF1: 0.30115\tF2: 0.29773"
   ]
  },
  {
   "cell_type": "code",
   "execution_count": 164,
   "metadata": {
    "collapsed": true
   },
   "outputs": [],
   "source": [
    "# Tuning:\n",
    "# select the 9 most important features from last run of DecisionTreeClassifier\n",
    "# Use of feature importances\n",
    "features_list = ['poi',\n",
    "                'exercised_stock_options',\n",
    "                'salary',\n",
    "                'perc_to_poi',\n",
    "                'deferred_income',\n",
    "                'total_payments',\n",
    "                'shared_receipt_with_poi',\n",
    "                'expenses',\n",
    "                'from_poi_to_this_person',\n",
    "                'from_this_person_to_poi']"
   ]
  },
  {
   "cell_type": "code",
   "execution_count": 165,
   "metadata": {
    "collapsed": false
   },
   "outputs": [],
   "source": [
    "from sklearn.model_selection import GridSearchCV"
   ]
  },
  {
   "cell_type": "code",
   "execution_count": 166,
   "metadata": {
    "collapsed": false
   },
   "outputs": [
    {
     "name": "stdout",
     "output_type": "stream",
     "text": [
      "Fitting 10 folds for each of 108 candidates, totalling 1080 fits\n"
     ]
    },
    {
     "name": "stderr",
     "output_type": "stream",
     "text": [
      "[Parallel(n_jobs=1)]: Done 1080 out of 1080 | elapsed:    3.3s finished\n"
     ]
    },
    {
     "data": {
      "text/plain": [
       "GridSearchCV(cv=10, error_score='raise',\n",
       "       estimator=DecisionTreeClassifier(class_weight=None, criterion='gini', max_depth=None,\n",
       "            max_features=None, max_leaf_nodes=None,\n",
       "            min_impurity_decrease=0.0, min_impurity_split=None,\n",
       "            min_samples_leaf=1, min_samples_split=2,\n",
       "            min_weight_fraction_leaf=0.0, presort=False, random_state=None,\n",
       "            splitter='best'),\n",
       "       fit_params=None, iid=True, n_jobs=1,\n",
       "       param_grid={'min_samples_split': [2, 3, 4, 5], 'max_features': [1, 2, 3, 4, 5, 6, 7, 8, 9], 'random_state': [42], 'criterion': ['entropy'], 'max_depth': [2, 5, 10]},\n",
       "       pre_dispatch='2*n_jobs', refit=True, return_train_score=True,\n",
       "       scoring='f1', verbose=1)"
      ]
     },
     "execution_count": 166,
     "metadata": {},
     "output_type": "execute_result"
    }
   ],
   "source": [
    "# Tuning with the following hyperparameters: \n",
    "# criterion, max_depth, min_samples_split, max_features \n",
    "param_grid = {'criterion': [\"entropy\"],\n",
    "              'max_depth':[2,5,10],\n",
    "              'min_samples_split':[2,3,4,5],\n",
    "              'max_features': [1,2,3,4,5,6,7,8,9],\n",
    "              'random_state':[42]}\n",
    "DTree_clf = DecisionTreeClassifier()\n",
    "#  F1 as scoring since the recall and the precision are equally important.\n",
    "grid_search = GridSearchCV(DTree_clf, param_grid, cv=10, verbose=1, n_jobs=1,scoring='f1')\n",
    "grid_search.fit(features_train, labels_train)"
   ]
  },
  {
   "cell_type": "code",
   "execution_count": 167,
   "metadata": {
    "collapsed": false,
    "scrolled": true
   },
   "outputs": [
    {
     "data": {
      "text/plain": [
       "{'criterion': 'entropy',\n",
       " 'max_depth': 2,\n",
       " 'max_features': 8,\n",
       " 'min_samples_split': 2,\n",
       " 'random_state': 42}"
      ]
     },
     "execution_count": 167,
     "metadata": {},
     "output_type": "execute_result"
    }
   ],
   "source": [
    "# Best hyperparameters\n",
    "grid_search.best_params_"
   ]
  },
  {
   "cell_type": "code",
   "execution_count": 168,
   "metadata": {
    "collapsed": false,
    "scrolled": true
   },
   "outputs": [],
   "source": [
    "# Best Estimator\n",
    "DTree_clf = grid_search.best_estimator_"
   ]
  },
  {
   "cell_type": "code",
   "execution_count": 169,
   "metadata": {
    "collapsed": false
   },
   "outputs": [
    {
     "data": {
      "text/plain": [
       "0.60341207349081361"
      ]
     },
     "execution_count": 169,
     "metadata": {},
     "output_type": "execute_result"
    }
   ],
   "source": [
    "grid_search.best_score_"
   ]
  },
  {
   "cell_type": "code",
   "execution_count": 170,
   "metadata": {
    "collapsed": false,
    "scrolled": true
   },
   "outputs": [
    {
     "data": {
      "text/plain": [
       "DecisionTreeClassifier(class_weight=None, criterion='entropy', max_depth=2,\n",
       "            max_features=8, max_leaf_nodes=None, min_impurity_decrease=0.0,\n",
       "            min_impurity_split=None, min_samples_leaf=1,\n",
       "            min_samples_split=2, min_weight_fraction_leaf=0.0,\n",
       "            presort=False, random_state=42, splitter='best')"
      ]
     },
     "execution_count": 170,
     "metadata": {},
     "output_type": "execute_result"
    }
   ],
   "source": [
    "# reuse of best estimator\n",
    "DTree_clf.fit(features_train, labels_train)"
   ]
  },
  {
   "cell_type": "code",
   "execution_count": 171,
   "metadata": {
    "collapsed": false,
    "scrolled": true
   },
   "outputs": [
    {
     "name": "stdout",
     "output_type": "stream",
     "text": [
      "DecisionTreeClassifier(class_weight=None, criterion='entropy', max_depth=2,\n",
      "            max_features=8, max_leaf_nodes=None, min_impurity_decrease=0.0,\n",
      "            min_impurity_split=None, min_samples_leaf=1,\n",
      "            min_samples_split=2, min_weight_fraction_leaf=0.0,\n",
      "            presort=False, random_state=42, splitter='best')\n",
      "\tAccuracy: 0.83993\tPrecision: 0.41938\tRecall: 0.52150\tF1: 0.46490\tF2: 0.49728\n",
      "\tTotal predictions: 15000\tTrue positives: 1043\tFalse positives: 1444\tFalse negatives:  957\tTrue negatives: 11556\n",
      "\n"
     ]
    }
   ],
   "source": [
    "## Evaluation on the final model\n",
    "test_classifier(DTree_clf, my_dataset, features_list)"
   ]
  },
  {
   "cell_type": "code",
   "execution_count": 172,
   "metadata": {
    "collapsed": false,
    "scrolled": true
   },
   "outputs": [
    {
     "name": "stdout",
     "output_type": "stream",
     "text": [
      "Feature importances: [ 0.          0.          0.40274157  0.          0.          0.\n",
      "  0.59725843  0.          0.        ]\n",
      "The number of classes  2\n"
     ]
    }
   ],
   "source": [
    "print \"Feature importances:\",DTree_clf.feature_importances_\n",
    "print \"The number of classes \",DTree_clf.n_classes_"
   ]
  },
  {
   "cell_type": "code",
   "execution_count": 173,
   "metadata": {
    "collapsed": true
   },
   "outputs": [],
   "source": [
    "dot_data = tree.export_graphviz(DTree_clf,\n",
    "                                feature_names=features_list[1:],\n",
    "                                class_names=True,\n",
    "                                label='all',\n",
    "                                filled=True, rounded=True,\n",
    "                                out_file=\"tree2.dot\")"
   ]
  },
  {
   "cell_type": "code",
   "execution_count": 174,
   "metadata": {
    "collapsed": true
   },
   "outputs": [],
   "source": [
    "# Use commands to generate image file DecisionTree02.png \n",
    "# >activate DAND\n",
    "# >cd \"~/final_project\" # where the tree2.dot is located\n",
    "# >dot -Tpng tree2.dot -o DecisionTree02.png"
   ]
  },
  {
   "cell_type": "markdown",
   "metadata": {},
   "source": [
    "![Diagram](DecisionTree02.png)"
   ]
  },
  {
   "cell_type": "markdown",
   "metadata": {},
   "source": [
    "## RandomForestClassifier"
   ]
  },
  {
   "cell_type": "code",
   "execution_count": 175,
   "metadata": {
    "collapsed": true
   },
   "outputs": [],
   "source": [
    "# Accuracy to beat: Accuracy: 0.86247\tPrecision: 0.43907\tRecall: 0.11350\tF1: 0.18037\tF2: 0.13326"
   ]
  },
  {
   "cell_type": "markdown",
   "metadata": {},
   "source": [
    "Feature importances from the previous run of Random Forest: \n",
    "[ 0.16600026  0.06917332  0.07329676  0.14227899  0.0484351   0.10840532\n",
    "  0.09809793  0.04676382  0.08431206  0.03344624  0.05901818  0.02555952\n",
    "  0.04521251]"
   ]
  },
  {
   "cell_type": "code",
   "execution_count": 176,
   "metadata": {
    "collapsed": true
   },
   "outputs": [],
   "source": [
    "# Tuning: \n",
    "# Select the most important features from last run of Random Forest\n",
    "# reducing the number of features from 9 to 2 since the performance was not sifficient\n",
    "# selecting feature 'bonus' instead of 'perc_to_poi' for better performance \n",
    "features_list = ['poi',\n",
    "                'exercised_stock_options',\n",
    "                'bonus']"
   ]
  },
  {
   "cell_type": "code",
   "execution_count": 177,
   "metadata": {
    "collapsed": false
   },
   "outputs": [
    {
     "name": "stdout",
     "output_type": "stream",
     "text": [
      "Fitting 10 folds for each of 96 candidates, totalling 960 fits\n"
     ]
    },
    {
     "name": "stderr",
     "output_type": "stream",
     "text": [
      "[Parallel(n_jobs=1)]: Done 960 out of 960 | elapsed:   12.0s finished\n"
     ]
    },
    {
     "data": {
      "text/plain": [
       "GridSearchCV(cv=10, error_score='raise',\n",
       "       estimator=RandomForestClassifier(bootstrap=True, class_weight=None, criterion='gini',\n",
       "            max_depth=None, max_features='auto', max_leaf_nodes=None,\n",
       "            min_impurity_decrease=0.0, min_impurity_split=None,\n",
       "            min_samples_leaf=1, min_samples_split=2,\n",
       "            min_weight_fraction_leaf=0.0, n_estimators=10, n_jobs=1,\n",
       "            oob_score=False, random_state=None, verbose=0,\n",
       "            warm_start=False),\n",
       "       fit_params=None, iid=True, n_jobs=1,\n",
       "       param_grid={'n_estimators': [2, 3, 4, 5], 'max_features': [None, 1, 2], 'random_state': [42], 'criterion': ['gini', 'entropy'], 'max_depth': [None, 5, 10, 15]},\n",
       "       pre_dispatch='2*n_jobs', refit=True, return_train_score=True,\n",
       "       scoring='f1', verbose=1)"
      ]
     },
     "execution_count": 177,
     "metadata": {},
     "output_type": "execute_result"
    }
   ],
   "source": [
    "# Tuning with the following hyperparameters: \n",
    "# criterion, n_estimators, max_depth, max_features \n",
    "param_grid = {'criterion': [\"gini\", \"entropy\"],\n",
    "              'n_estimators':[2,3,4,5],\n",
    "              'max_depth':[None,5,10,15],\n",
    "              'max_features': [None,1,2],\n",
    "              'random_state':[42]}\n",
    "RF_clf = RandomForestClassifier()\n",
    "#  F1 as scoring since the recall and the precision are equally important.\n",
    "grid_search = GridSearchCV(RF_clf, param_grid, cv=10, verbose=1, n_jobs=1,scoring='f1')\n",
    "grid_search.fit(features_train, labels_train)"
   ]
  },
  {
   "cell_type": "code",
   "execution_count": 178,
   "metadata": {
    "collapsed": false,
    "scrolled": true
   },
   "outputs": [
    {
     "data": {
      "text/plain": [
       "{'criterion': 'gini',\n",
       " 'max_depth': None,\n",
       " 'max_features': None,\n",
       " 'n_estimators': 3,\n",
       " 'random_state': 42}"
      ]
     },
     "execution_count": 178,
     "metadata": {},
     "output_type": "execute_result"
    }
   ],
   "source": [
    "# Best hyperparameters\n",
    "grid_search.best_params_"
   ]
  },
  {
   "cell_type": "code",
   "execution_count": 179,
   "metadata": {
    "collapsed": false,
    "scrolled": true
   },
   "outputs": [],
   "source": [
    "# Best estimator\n",
    "RF_clf = grid_search.best_estimator_"
   ]
  },
  {
   "cell_type": "code",
   "execution_count": 180,
   "metadata": {
    "collapsed": false
   },
   "outputs": [
    {
     "data": {
      "text/plain": [
       "0.48477690288713909"
      ]
     },
     "execution_count": 180,
     "metadata": {},
     "output_type": "execute_result"
    }
   ],
   "source": [
    "grid_search.best_score_"
   ]
  },
  {
   "cell_type": "code",
   "execution_count": 181,
   "metadata": {
    "collapsed": false
   },
   "outputs": [
    {
     "data": {
      "text/plain": [
       "RandomForestClassifier(bootstrap=True, class_weight=None, criterion='gini',\n",
       "            max_depth=None, max_features=None, max_leaf_nodes=None,\n",
       "            min_impurity_decrease=0.0, min_impurity_split=None,\n",
       "            min_samples_leaf=1, min_samples_split=2,\n",
       "            min_weight_fraction_leaf=0.0, n_estimators=3, n_jobs=1,\n",
       "            oob_score=False, random_state=42, verbose=0, warm_start=False)"
      ]
     },
     "execution_count": 181,
     "metadata": {},
     "output_type": "execute_result"
    }
   ],
   "source": [
    "# Reuse of the best estimator\n",
    "RF_clf.fit(features_train, labels_train)"
   ]
  },
  {
   "cell_type": "code",
   "execution_count": 182,
   "metadata": {
    "collapsed": false,
    "scrolled": true
   },
   "outputs": [
    {
     "name": "stdout",
     "output_type": "stream",
     "text": [
      "RandomForestClassifier(bootstrap=True, class_weight=None, criterion='gini',\n",
      "            max_depth=None, max_features=None, max_leaf_nodes=None,\n",
      "            min_impurity_decrease=0.0, min_impurity_split=None,\n",
      "            min_samples_leaf=1, min_samples_split=2,\n",
      "            min_weight_fraction_leaf=0.0, n_estimators=3, n_jobs=1,\n",
      "            oob_score=False, random_state=42, verbose=0, warm_start=False)\n",
      "\tAccuracy: 0.81754\tPrecision: 0.40663\tRecall: 0.40500\tF1: 0.40581\tF2: 0.40532\n",
      "\tTotal predictions: 13000\tTrue positives:  810\tFalse positives: 1182\tFalse negatives: 1190\tTrue negatives: 9818\n",
      "\n"
     ]
    }
   ],
   "source": [
    "## Evaluation on the final model\n",
    "test_classifier(RF_clf, my_dataset, features_list)"
   ]
  },
  {
   "cell_type": "markdown",
   "metadata": {},
   "source": [
    "### Adaboost Model"
   ]
  },
  {
   "cell_type": "markdown",
   "metadata": {
    "collapsed": true
   },
   "source": [
    "The scores to beat from last run of Adaboost model: Accuracy: 0.81860\tPrecision: 0.31195\tRecall: 0.29900\tF1: 0.30534\tF2: 0.30150 "
   ]
  },
  {
   "cell_type": "markdown",
   "metadata": {
    "collapsed": false,
    "scrolled": true
   },
   "source": [
    "Feature importances from previous run of Adaboost: \n",
    "\n",
    "[ 0.06620183 , 0., 0., 0.17102017, 0., 0.1060717, 0.16208709, 0.2240468, 0.21336521, 0., 0., 0.05720721, 0.]"
   ]
  },
  {
   "cell_type": "code",
   "execution_count": 183,
   "metadata": {
    "collapsed": true
   },
   "outputs": [],
   "source": [
    "# Tuning:\n",
    "# select best features and using feature importance from last run of Adaboost \n",
    "features_list = ['poi',\n",
    "                'exercised_stock_options',\n",
    "                'perc_to_poi',\n",
    "                'long_term_incentive',\n",
    "                'total_payments',\n",
    "                'shared_receipt_with_poi',\n",
    "                'expenses',\n",
    "                'from_this_person_to_poi']"
   ]
  },
  {
   "cell_type": "code",
   "execution_count": 184,
   "metadata": {
    "collapsed": false,
    "scrolled": true
   },
   "outputs": [
    {
     "name": "stdout",
     "output_type": "stream",
     "text": [
      "Fitting 10 folds for each of 15 candidates, totalling 150 fits\n"
     ]
    },
    {
     "name": "stderr",
     "output_type": "stream",
     "text": [
      "[Parallel(n_jobs=1)]: Done 150 out of 150 | elapsed:    2.0s finished\n"
     ]
    },
    {
     "data": {
      "text/plain": [
       "GridSearchCV(cv=10, error_score='raise',\n",
       "       estimator=AdaBoostClassifier(algorithm='SAMME.R', base_estimator=None,\n",
       "          learning_rate=1.0, n_estimators=50, random_state=None),\n",
       "       fit_params=None, iid=True, n_jobs=1,\n",
       "       param_grid={'n_estimators': [2, 3, 4, 5, 10], 'learning_rate': [0.5, 1, 2], 'random_state': [42], 'algorithm': ['SAMME']},\n",
       "       pre_dispatch='2*n_jobs', refit=True, return_train_score=True,\n",
       "       scoring='f1', verbose=1)"
      ]
     },
     "execution_count": 184,
     "metadata": {},
     "output_type": "execute_result"
    }
   ],
   "source": [
    "# Tuning with the following hyperparameters: \n",
    "# n_estimators, algorithm, learning_rage \n",
    "param_grid = {'n_estimators':[2,3,4,5,10],\n",
    "              'algorithm':['SAMME'],\n",
    "              'learning_rate':[0.5,1,2],\n",
    "              'random_state':[42]}\n",
    "Aboost_clf = AdaBoostClassifier()\n",
    "#  F1 as scoring since the recall and the precision are equally important.\n",
    "grid_search = GridSearchCV(Aboost_clf, param_grid, cv=10, verbose=1, n_jobs=1,scoring='f1')\n",
    "grid_search.fit(features_train, labels_train)"
   ]
  },
  {
   "cell_type": "code",
   "execution_count": 185,
   "metadata": {
    "collapsed": false,
    "scrolled": false
   },
   "outputs": [
    {
     "data": {
      "text/plain": [
       "{'algorithm': 'SAMME',\n",
       " 'learning_rate': 1,\n",
       " 'n_estimators': 3,\n",
       " 'random_state': 42}"
      ]
     },
     "execution_count": 185,
     "metadata": {},
     "output_type": "execute_result"
    }
   ],
   "source": [
    "# Best hyperparameters \n",
    "grid_search.best_params_"
   ]
  },
  {
   "cell_type": "code",
   "execution_count": 186,
   "metadata": {
    "collapsed": false
   },
   "outputs": [],
   "source": [
    "# Best estimator\n",
    "clf = grid_search.best_estimator_"
   ]
  },
  {
   "cell_type": "code",
   "execution_count": 187,
   "metadata": {
    "collapsed": false,
    "scrolled": false
   },
   "outputs": [
    {
     "data": {
      "text/plain": [
       "AdaBoostClassifier(algorithm='SAMME', base_estimator=None, learning_rate=1,\n",
       "          n_estimators=3, random_state=42)"
      ]
     },
     "execution_count": 187,
     "metadata": {},
     "output_type": "execute_result"
    }
   ],
   "source": [
    "# reuse of the best estimator\n",
    "clf.fit(features_train,labels_train)"
   ]
  },
  {
   "cell_type": "code",
   "execution_count": 188,
   "metadata": {
    "collapsed": false,
    "scrolled": true
   },
   "outputs": [
    {
     "name": "stdout",
     "output_type": "stream",
     "text": [
      "AdaBoostClassifier(algorithm='SAMME', base_estimator=None, learning_rate=1,\n",
      "          n_estimators=3, random_state=42)\n",
      "\tAccuracy: 0.87213\tPrecision: 0.51576\tRecall: 0.67100\tF1: 0.58322\tF2: 0.63290\n",
      "\tTotal predictions: 15000\tTrue positives: 1342\tFalse positives: 1260\tFalse negatives:  658\tTrue negatives: 11740\n",
      "\n"
     ]
    }
   ],
   "source": [
    "## Evaluation on the final model\n",
    "test_classifier(clf, my_dataset, features_list)"
   ]
  },
  {
   "cell_type": "markdown",
   "metadata": {},
   "source": [
    "### Task 6"
   ]
  },
  {
   "cell_type": "markdown",
   "metadata": {},
   "source": [
    "### Direction \n",
    "\n",
    "Dump your classifier, dataset, and features_list so anyone can\n",
    "check your results. You do not need to change anything below, but make sure\n",
    "that the version of poi_id.py that you submit can be run on its own and\n",
    "generates the necessary .pkl files for validating your results."
   ]
  },
  {
   "cell_type": "markdown",
   "metadata": {},
   "source": [
    "See: poi_id.py file"
   ]
  },
  {
   "cell_type": "markdown",
   "metadata": {},
   "source": [
    "## Validation"
   ]
  },
  {
   "cell_type": "markdown",
   "metadata": {},
   "source": [
    "__Usage of Evaluation Metrics__\n",
    "\n",
    "In case of classification problems and when the dataset is unbalanced - i.e. a difference in the numbers of positive and negative instances, usually with the negatives outnumbering the positives - the most appropriate metric is not accuracy but some alternate metrics (precision, recall).\n",
    "\n",
    "Accuracy in classification problems is the number of correct predictions made by the model over all kinds predictions made.\n",
    "\n",
    "The meaning of precision is the following: a precision of 0.3 means that there are 30% correct predictions among the positive predictions. Precision is a measure that tells us what proportion of people that we predicted as being poi, actually are poi.\n",
    "\n",
    "Recall is a measure that tells us what proportion of people that actually are poi was predicted by the algorithm as being poi.\n",
    "\n",
    "Here is an example with RandomForest Classifier with an imbalanced dataset:\n",
    "\n",
    "RandomForestClassifier(bootstrap=True, class_weight=None, criterion='entropy',\n",
    "            max_depth=None, max_features=1, max_leaf_nodes=None,\n",
    "            min_impurity_decrease=0.0, min_impurity_split=None,\n",
    "            min_samples_leaf=1, min_samples_split=2,\n",
    "            min_weight_fraction_leaf=0.0, n_estimators=10, n_jobs=1,\n",
    "            oob_score=False, random_state=42, verbose=0, warm_start=False)\n",
    "            \n",
    "__Accuracy: 0.86327\tPrecision: 0.44218\tRecall: 0.09750\tF1: 0.15977\tF2: 0.11551__\n",
    "\n",
    "__Total predictions: 15000\tTrue positives:  195\tFalse positives:  246\tFalse negatives: 1805\tTrue negatives: 12754__\n",
    "\n",
    "The key point is that accuracy metric fails to capture the poor performance of the classifier for the imbalanced dataset. For example, accuracy indicates that the performance of the classifier is fine with 0.86. But the recall (respectively precision)  indicates that the performance of the classifier is relatively poor (respectively acceptable) on the imbalanced dataset with 0.10 (respectively with 0.44). Hence, precision and recall reveal differences in performance that go unnoticed when using accuracy.\n",
    "\n",
    "For GridSearchCV, I use F1 as scoring since the recall and the precision are equally important.\n",
    "\n",
    "__Validation and its importance__\n",
    "\n",
    "Validation is to ensure that the model could generalise well. For that purpose the dataset is to split the data into 2 sets: training set and test set. \n",
    "\n",
    "Cross-validation was used here. The concept is the following: Instead of using the whole dataset to train and then test on same data, I randomly divide our data into training and testing datasets.\n",
    "\n",
    "If validation is not performed correctly, when the model is deployed into production it is highly probable that with new data the performance will drop since the model could not generalise well.\n",
    "\n",
    "__Algorithm Performance__\n",
    "\n",
    "The algorithm is validated when precision and recall are both at least 0.3\n",
    "\n",
    "Algorithm|Accuracy|Precision|Recall|F1\n",
    "--|--|--|--|--|--\n",
    "NaiveBayes|0.90409|0.46055|0.32100|0.3783\n",
    "DecisionTree|0.83993|0.41938|0.52150|0.46490\n",
    "RandomForestClassifier|0.81754|0.40663|0.40500|0.40581\n",
    "AdaBoostClassifier|0.87213|0.51576|0.67100|0.58322\n",
    "\n",
    "When tester.py is used to evaluate performance, precision and recall are both at least 0.3."
   ]
  },
  {
   "cell_type": "markdown",
   "metadata": {
    "collapsed": true
   },
   "source": [
    "## Conclusion"
   ]
  },
  {
   "cell_type": "markdown",
   "metadata": {},
   "source": [
    "The dataset is very small. And data matters as well as algorithm.\n",
    "\n",
    "Two Outliers have been removed with significant impact.\n",
    "\n",
    "New features have been added (e.g. perc_to_poi) and for some models it was efficient. The feature perc_to_poi is the second highest significant feature for Adaboost Model (selected model). The feature perc_to_poi is highly significant for the tuned Decision Tree model.\n",
    "\n",
    "Relevant data have been used. When using all the features, models performed poorly because of overfitting in some cases. A good approach was to use a smaller set of features.\n",
    "\n",
    "There was no way to have more training data.\n",
    "\n",
    "The key influencing features are financial ones (e.g. exercised_stock_options)\n",
    "\n",
    "Some features have very few information: loan_advances, director_fees, restricted_stock_deferred. The approach was to not include them in feature selection.\n",
    "\n",
    "Tuning could be time consuming and specially if done manually. It's why the use of GridSearch helped a lot.\n",
    "\n",
    "The selected model is AdaBoost with the following scores:\n",
    "\n",
    "Accuracy: 0.87213\t\n",
    "\n",
    "Precision: 0.51576\t\n",
    "\n",
    "Recall: 0.67100\t\n"
   ]
  },
  {
   "cell_type": "markdown",
   "metadata": {},
   "source": [
    "## Documentation/References"
   ]
  },
  {
   "cell_type": "markdown",
   "metadata": {},
   "source": [
    "[GitHub repository 1]\n",
    "\n",
    "https://github.com/ageron/handson-ml"
   ]
  },
  {
   "cell_type": "markdown",
   "metadata": {},
   "source": [
    "[GitHub repository 2]\n",
    "\n",
    "https://github.com/MarcCollado/Enron"
   ]
  },
  {
   "cell_type": "markdown",
   "metadata": {},
   "source": [
    "[GitHub repository 3]\n",
    "\n",
    "https://github.com/travisseal/enron_data_udacity"
   ]
  },
  {
   "cell_type": "markdown",
   "metadata": {},
   "source": [
    "[GitHub repository 4]\n",
    "\n",
    "https://github.com/Jacobdudee/EnronModel"
   ]
  },
  {
   "cell_type": "markdown",
   "metadata": {},
   "source": [
    "[GitHub repository 5]\n",
    "\n",
    "https://github.com/adazamora/enron_ml/blob/master/ml_project.ipynb"
   ]
  },
  {
   "cell_type": "markdown",
   "metadata": {},
   "source": [
    "[Hdbk] Python for Data Science Handbook from Blog:\n",
    "[blog](http://www.datasciencecentral.com/profiles/blogs/book-python-data-science-handbook?utm_content=buffer09a5c&utm_medium=social&utm_source=twitter.com&utm_campaign=buffer)"
   ]
  }
 ],
 "metadata": {
  "anaconda-cloud": {},
  "kernelspec": {
   "display_name": "Python [default]",
   "language": "python",
   "name": "python2"
  },
  "language_info": {
   "codemirror_mode": {
    "name": "ipython",
    "version": 2
   },
   "file_extension": ".py",
   "mimetype": "text/x-python",
   "name": "python",
   "nbconvert_exporter": "python",
   "pygments_lexer": "ipython2",
   "version": "2.7.12"
  }
 },
 "nbformat": 4,
 "nbformat_minor": 2
}
